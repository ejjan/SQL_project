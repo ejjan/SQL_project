{
 "cells": [
  {
   "cell_type": "markdown",
   "metadata": {},
   "source": [
    "## Chinook Database\n",
    "__[Source link](https://github.com/lerocha/chinook-database)__\n",
    "* Chinook is a sample database available for SQL Server, Oracle, MySQL, etc. \n",
    "* The Chinook data represents a digital media store, including tables for artists, albums, media tracks, invoices and customers\n",
    "* There are 11 tables in this databas\n",
    "* Total 59 customers from 24 different countries"
   ]
  },
  {
   "cell_type": "code",
   "execution_count": 1,
   "metadata": {},
   "outputs": [],
   "source": [
    "import sqlite3\n",
    "import pandas as pd\n",
    "import numpy as np\n",
    "import seaborn as sns\n",
    "from matplotlib import pyplot as plt\n",
    "%matplotlib inline\n"
   ]
  },
  {
   "cell_type": "code",
   "execution_count": 2,
   "metadata": {},
   "outputs": [],
   "source": [
    "def run_query(q):\n",
    "    with sqlite3.connect('chinook.db') as conn:\n",
    "        return pd.read_sql(q, conn)"
   ]
  },
  {
   "cell_type": "code",
   "execution_count": 3,
   "metadata": {},
   "outputs": [],
   "source": [
    "def run_command(c):\n",
    "    with sqlite3.connect('chinook.db') as conn:\n",
    "        conn.isolation_level = None\n",
    "        return conn.execute(c)"
   ]
  },
  {
   "cell_type": "code",
   "execution_count": 4,
   "metadata": {},
   "outputs": [],
   "source": [
    "def show_tables():\n",
    "    q = \"\"\"\n",
    "    SELECT name,type\n",
    "    FROM sqlite_master\n",
    "    WHERE type IN (\"table\",\"view\");\"\"\"\n",
    "    return run_query(q)"
   ]
  },
  {
   "cell_type": "code",
   "execution_count": 5,
   "metadata": {},
   "outputs": [
    {
     "data": {
      "text/html": [
       "<div>\n",
       "<style scoped>\n",
       "    .dataframe tbody tr th:only-of-type {\n",
       "        vertical-align: middle;\n",
       "    }\n",
       "\n",
       "    .dataframe tbody tr th {\n",
       "        vertical-align: top;\n",
       "    }\n",
       "\n",
       "    .dataframe thead th {\n",
       "        text-align: right;\n",
       "    }\n",
       "</style>\n",
       "<table border=\"1\" class=\"dataframe\">\n",
       "  <thead>\n",
       "    <tr style=\"text-align: right;\">\n",
       "      <th></th>\n",
       "      <th>name</th>\n",
       "      <th>type</th>\n",
       "    </tr>\n",
       "  </thead>\n",
       "  <tbody>\n",
       "    <tr>\n",
       "      <th>0</th>\n",
       "      <td>album</td>\n",
       "      <td>table</td>\n",
       "    </tr>\n",
       "    <tr>\n",
       "      <th>1</th>\n",
       "      <td>artist</td>\n",
       "      <td>table</td>\n",
       "    </tr>\n",
       "    <tr>\n",
       "      <th>2</th>\n",
       "      <td>customer</td>\n",
       "      <td>table</td>\n",
       "    </tr>\n",
       "    <tr>\n",
       "      <th>3</th>\n",
       "      <td>employee</td>\n",
       "      <td>table</td>\n",
       "    </tr>\n",
       "    <tr>\n",
       "      <th>4</th>\n",
       "      <td>genre</td>\n",
       "      <td>table</td>\n",
       "    </tr>\n",
       "    <tr>\n",
       "      <th>5</th>\n",
       "      <td>invoice</td>\n",
       "      <td>table</td>\n",
       "    </tr>\n",
       "    <tr>\n",
       "      <th>6</th>\n",
       "      <td>invoice_line</td>\n",
       "      <td>table</td>\n",
       "    </tr>\n",
       "    <tr>\n",
       "      <th>7</th>\n",
       "      <td>media_type</td>\n",
       "      <td>table</td>\n",
       "    </tr>\n",
       "    <tr>\n",
       "      <th>8</th>\n",
       "      <td>playlist</td>\n",
       "      <td>table</td>\n",
       "    </tr>\n",
       "    <tr>\n",
       "      <th>9</th>\n",
       "      <td>playlist_track</td>\n",
       "      <td>table</td>\n",
       "    </tr>\n",
       "    <tr>\n",
       "      <th>10</th>\n",
       "      <td>track</td>\n",
       "      <td>table</td>\n",
       "    </tr>\n",
       "  </tbody>\n",
       "</table>\n",
       "</div>"
      ],
      "text/plain": [
       "              name   type\n",
       "0            album  table\n",
       "1           artist  table\n",
       "2         customer  table\n",
       "3         employee  table\n",
       "4            genre  table\n",
       "5          invoice  table\n",
       "6     invoice_line  table\n",
       "7       media_type  table\n",
       "8         playlist  table\n",
       "9   playlist_track  table\n",
       "10           track  table"
      ]
     },
     "execution_count": 5,
     "metadata": {},
     "output_type": "execute_result"
    }
   ],
   "source": [
    "show_tables()"
   ]
  },
  {
   "cell_type": "code",
   "execution_count": 6,
   "metadata": {},
   "outputs": [],
   "source": [
    "album_to_pur_all = \"\"\"\n",
    "WITH track_pur AS\n",
    "    (\n",
    "     SELECT il.*, c.country\n",
    "     FROM invoice_line il\n",
    "     INNER JOIN invoice i on il.invoice_id = i.invoice_id\n",
    "     INNER JOIN customer c on i.customer_id = c.customer_id\n",
    "    )\n",
    "\n",
    "SELECT  tp.country,\n",
    "        COUNT(tp.invoice_line_id) \"number_tracks_sold\"\n",
    "FROM track_pur tp\n",
    "INNER JOIN track t on tp.track_id = t.track_id\n",
    "INNER JOIN genre g on t.genre_id = g.genre_id\n",
    "GROUP BY tp.country\n",
    "ORDER BY number_tracks_sold DESC\n",
    "\"\"\""
   ]
  },
  {
   "cell_type": "code",
   "execution_count": 7,
   "metadata": {},
   "outputs": [],
   "source": [
    "genre_sales_all = run_query(album_to_pur_all)"
   ]
  },
  {
   "cell_type": "code",
   "execution_count": 25,
   "metadata": {
    "scrolled": true
   },
   "outputs": [
    {
     "data": {
      "image/png": "[encoded data removed]",
      "text/plain": [
       "<Figure size 720x360 with 1 Axes>"
      ]
     },
     "metadata": {},
     "output_type": "display_data"
    }
   ],
   "source": [
    "sns.set_style('darkgrid')\n",
    "sns.set(font_scale=1.2)\n",
    "plt.figure(figsize=(10,5))\n",
    "pal = sns.color_palette(\"Greens_d\", 24)\n",
    "sns.barplot(x='number_tracks_sold', y ='country',\n",
    "            data= genre_sales_all, ci = None, palette=pal)\n",
    "plt.title('Total Album Sold by Country', fontsize=17)\n",
    "plt.xlabel('Total Album Sold', fontsize=15)\n",
    "plt.ylabel('Country', fontsize=15)\n",
    "plt.show()"
   ]
  },
  {
   "cell_type": "markdown",
   "metadata": {},
   "source": [
    "* From the bar plot, USA is the biggest market for Chinook store"
   ]
  },
  {
   "cell_type": "markdown",
   "metadata": {},
   "source": [
    "# Top 10 sold genre in USA"
   ]
  },
  {
   "cell_type": "code",
   "execution_count": 14,
   "metadata": {},
   "outputs": [],
   "source": [
    "album_to_pur_usa = \"\"\"\n",
    "WITH track_pur AS\n",
    "    (\n",
    "     SELECT il.* \n",
    "     FROM invoice_line il\n",
    "     INNER JOIN invoice i on il.invoice_id = i.invoice_id\n",
    "     INNER JOIN customer c on i.customer_id = c.customer_id\n",
    "     WHERE c.country = \"USA\"\n",
    "    )\n",
    "\n",
    "SELECT  g.name genre, \n",
    "        COUNT(tp.invoice_line_id) \"number_tracks_sold\",\n",
    "        CAST(COUNT(tp.invoice_line_id) as float)/(\n",
    "        SELECT count(*) FROM track_pur) \"%_tracks_sold\"\n",
    "FROM track_pur tp\n",
    "INNER JOIN track t on tp.track_id = t.track_id\n",
    "INNER JOIN genre g on t.genre_id = g.genre_id\n",
    "GROUP BY g.genre_id\n",
    "ORDER BY number_tracks_sold DESC\n",
    "\"\"\""
   ]
  },
  {
   "cell_type": "code",
   "execution_count": 15,
   "metadata": {},
   "outputs": [],
   "source": [
    "genre_sales_usa = run_query(album_to_pur_usa)"
   ]
  },
  {
   "cell_type": "code",
   "execution_count": 16,
   "metadata": {},
   "outputs": [
    {
     "data": {
      "text/html": [
       "<div>\n",
       "<style scoped>\n",
       "    .dataframe tbody tr th:only-of-type {\n",
       "        vertical-align: middle;\n",
       "    }\n",
       "\n",
       "    .dataframe tbody tr th {\n",
       "        vertical-align: top;\n",
       "    }\n",
       "\n",
       "    .dataframe thead th {\n",
       "        text-align: right;\n",
       "    }\n",
       "</style>\n",
       "<table border=\"1\" class=\"dataframe\">\n",
       "  <thead>\n",
       "    <tr style=\"text-align: right;\">\n",
       "      <th></th>\n",
       "      <th>genre</th>\n",
       "      <th>number_tracks_sold</th>\n",
       "      <th>%_tracks_sold</th>\n",
       "    </tr>\n",
       "  </thead>\n",
       "  <tbody>\n",
       "    <tr>\n",
       "      <th>0</th>\n",
       "      <td>Rock</td>\n",
       "      <td>561</td>\n",
       "      <td>0.533777</td>\n",
       "    </tr>\n",
       "    <tr>\n",
       "      <th>1</th>\n",
       "      <td>Alternative &amp; Punk</td>\n",
       "      <td>130</td>\n",
       "      <td>0.123692</td>\n",
       "    </tr>\n",
       "    <tr>\n",
       "      <th>2</th>\n",
       "      <td>Metal</td>\n",
       "      <td>124</td>\n",
       "      <td>0.117983</td>\n",
       "    </tr>\n",
       "    <tr>\n",
       "      <th>3</th>\n",
       "      <td>R&amp;B/Soul</td>\n",
       "      <td>53</td>\n",
       "      <td>0.050428</td>\n",
       "    </tr>\n",
       "    <tr>\n",
       "      <th>4</th>\n",
       "      <td>Blues</td>\n",
       "      <td>36</td>\n",
       "      <td>0.034253</td>\n",
       "    </tr>\n",
       "    <tr>\n",
       "      <th>5</th>\n",
       "      <td>Alternative</td>\n",
       "      <td>35</td>\n",
       "      <td>0.033302</td>\n",
       "    </tr>\n",
       "    <tr>\n",
       "      <th>6</th>\n",
       "      <td>Latin</td>\n",
       "      <td>22</td>\n",
       "      <td>0.020932</td>\n",
       "    </tr>\n",
       "    <tr>\n",
       "      <th>7</th>\n",
       "      <td>Pop</td>\n",
       "      <td>22</td>\n",
       "      <td>0.020932</td>\n",
       "    </tr>\n",
       "    <tr>\n",
       "      <th>8</th>\n",
       "      <td>Hip Hop/Rap</td>\n",
       "      <td>20</td>\n",
       "      <td>0.019029</td>\n",
       "    </tr>\n",
       "    <tr>\n",
       "      <th>9</th>\n",
       "      <td>Jazz</td>\n",
       "      <td>14</td>\n",
       "      <td>0.013321</td>\n",
       "    </tr>\n",
       "    <tr>\n",
       "      <th>10</th>\n",
       "      <td>Easy Listening</td>\n",
       "      <td>13</td>\n",
       "      <td>0.012369</td>\n",
       "    </tr>\n",
       "    <tr>\n",
       "      <th>11</th>\n",
       "      <td>Reggae</td>\n",
       "      <td>6</td>\n",
       "      <td>0.005709</td>\n",
       "    </tr>\n",
       "    <tr>\n",
       "      <th>12</th>\n",
       "      <td>Electronica/Dance</td>\n",
       "      <td>5</td>\n",
       "      <td>0.004757</td>\n",
       "    </tr>\n",
       "    <tr>\n",
       "      <th>13</th>\n",
       "      <td>Classical</td>\n",
       "      <td>4</td>\n",
       "      <td>0.003806</td>\n",
       "    </tr>\n",
       "    <tr>\n",
       "      <th>14</th>\n",
       "      <td>Heavy Metal</td>\n",
       "      <td>3</td>\n",
       "      <td>0.002854</td>\n",
       "    </tr>\n",
       "    <tr>\n",
       "      <th>15</th>\n",
       "      <td>Soundtrack</td>\n",
       "      <td>2</td>\n",
       "      <td>0.001903</td>\n",
       "    </tr>\n",
       "    <tr>\n",
       "      <th>16</th>\n",
       "      <td>TV Shows</td>\n",
       "      <td>1</td>\n",
       "      <td>0.000951</td>\n",
       "    </tr>\n",
       "  </tbody>\n",
       "</table>\n",
       "</div>"
      ],
      "text/plain": [
       "                 genre  number_tracks_sold  %_tracks_sold\n",
       "0                 Rock                 561       0.533777\n",
       "1   Alternative & Punk                 130       0.123692\n",
       "2                Metal                 124       0.117983\n",
       "3             R&B/Soul                  53       0.050428\n",
       "4                Blues                  36       0.034253\n",
       "5          Alternative                  35       0.033302\n",
       "6                Latin                  22       0.020932\n",
       "7                  Pop                  22       0.020932\n",
       "8          Hip Hop/Rap                  20       0.019029\n",
       "9                 Jazz                  14       0.013321\n",
       "10      Easy Listening                  13       0.012369\n",
       "11              Reggae                   6       0.005709\n",
       "12   Electronica/Dance                   5       0.004757\n",
       "13           Classical                   4       0.003806\n",
       "14         Heavy Metal                   3       0.002854\n",
       "15          Soundtrack                   2       0.001903\n",
       "16            TV Shows                   1       0.000951"
      ]
     },
     "execution_count": 16,
     "metadata": {},
     "output_type": "execute_result"
    }
   ],
   "source": [
    "genre_sales_usa"
   ]
  },
  {
   "cell_type": "code",
   "execution_count": 26,
   "metadata": {},
   "outputs": [
    {
     "data": {
      "image/png": "[encoded data removed]",
      "text/plain": [
       "<Figure size 576x360 with 1 Axes>"
      ]
     },
     "metadata": {},
     "output_type": "display_data"
    }
   ],
   "source": [
    "sns.set_style('darkgrid')\n",
    "plt.figure(figsize=(8,5))\n",
    "sns.barplot(x='number_tracks_sold', y ='genre',data= genre_sales_usa)\n",
    "plt.title('Total Album Sold in USA by Genre', fontsize=17)\n",
    "plt.xlabel('Total Album Sold', fontsize=15)\n",
    "plt.ylabel('Genre', fontsize=15)\n",
    "plt.show()"
   ]
  },
  {
   "cell_type": "markdown",
   "metadata": {},
   "source": [
    "* From the bar plot, genre \"Rock\", \"Alternative & Punk\", and \"Metal\" are the top three most sold genre in the store\n",
    "* Store owner should lookout for artists and albums from the thoes three genres which account for 76% of store sales for USA customers"
   ]
  },
  {
   "cell_type": "markdown",
   "metadata": {},
   "source": [
    "# Check employees' perfromance"
   ]
  },
  {
   "cell_type": "code",
   "execution_count": 183,
   "metadata": {
    "collapsed": true
   },
   "outputs": [],
   "source": [
    "sales_performance = \"\"\"\n",
    "WITH emp_cust AS\n",
    "        (\n",
    "         SELECT e.first_name||\" \"||e.last_name employee_name, \n",
    "                e.title, e.hire_date, e.country, \n",
    "                c.customer_id\n",
    "         FROM employee e\n",
    "         LEFT JOIN customer c on e.employee_id = c.support_rep_id\n",
    "         )\n",
    "\n",
    "SELECT ec.employee_name, ec.title employee_title, \n",
    "       ec.hire_date,\n",
    "       ec.country employee_country,\n",
    "       COUNT(DISTINCT ec.customer_id) num_customer,\n",
    "       SUM(i.total) total_cust_sales\n",
    "FROM emp_cust ec\n",
    "INNER JOIN invoice i on i.customer_id = ec.customer_id\n",
    "GROUP BY ec.employee_name\n",
    "\"\"\""
   ]
  },
  {
   "cell_type": "code",
   "execution_count": 184,
   "metadata": {},
   "outputs": [],
   "source": [
    "sales_performance_table = run_query(sales_performance)"
   ]
  },
  {
   "cell_type": "code",
   "execution_count": 185,
   "metadata": {
    "scrolled": true
   },
   "outputs": [
    {
     "data": {
      "text/html": [
       "<div>\n",
       "<style scoped>\n",
       "    .dataframe tbody tr th:only-of-type {\n",
       "        vertical-align: middle;\n",
       "    }\n",
       "\n",
       "    .dataframe tbody tr th {\n",
       "        vertical-align: top;\n",
       "    }\n",
       "\n",
       "    .dataframe thead th {\n",
       "        text-align: right;\n",
       "    }\n",
       "</style>\n",
       "<table border=\"1\" class=\"dataframe\">\n",
       "  <thead>\n",
       "    <tr style=\"text-align: right;\">\n",
       "      <th></th>\n",
       "      <th>employee_name</th>\n",
       "      <th>employee_title</th>\n",
       "      <th>hire_date</th>\n",
       "      <th>employee_country</th>\n",
       "      <th>num_customer</th>\n",
       "      <th>total_cust_sales</th>\n",
       "    </tr>\n",
       "  </thead>\n",
       "  <tbody>\n",
       "    <tr>\n",
       "      <th>0</th>\n",
       "      <td>Jane Peacock</td>\n",
       "      <td>Sales Support Agent</td>\n",
       "      <td>2017-04-01 00:00:00</td>\n",
       "      <td>Canada</td>\n",
       "      <td>21</td>\n",
       "      <td>1731.51</td>\n",
       "    </tr>\n",
       "    <tr>\n",
       "      <th>1</th>\n",
       "      <td>Margaret Park</td>\n",
       "      <td>Sales Support Agent</td>\n",
       "      <td>2017-05-03 00:00:00</td>\n",
       "      <td>Canada</td>\n",
       "      <td>20</td>\n",
       "      <td>1584.00</td>\n",
       "    </tr>\n",
       "    <tr>\n",
       "      <th>2</th>\n",
       "      <td>Steve Johnson</td>\n",
       "      <td>Sales Support Agent</td>\n",
       "      <td>2017-10-17 00:00:00</td>\n",
       "      <td>Canada</td>\n",
       "      <td>18</td>\n",
       "      <td>1393.92</td>\n",
       "    </tr>\n",
       "  </tbody>\n",
       "</table>\n",
       "</div>"
      ],
      "text/plain": [
       "   employee_name       employee_title            hire_date employee_country  \\\n",
       "0   Jane Peacock  Sales Support Agent  2017-04-01 00:00:00           Canada   \n",
       "1  Margaret Park  Sales Support Agent  2017-05-03 00:00:00           Canada   \n",
       "2  Steve Johnson  Sales Support Agent  2017-10-17 00:00:00           Canada   \n",
       "\n",
       "   num_customer  total_cust_sales  \n",
       "0            21           1731.51  \n",
       "1            20           1584.00  \n",
       "2            18           1393.92  "
      ]
     },
     "execution_count": 185,
     "metadata": {},
     "output_type": "execute_result"
    }
   ],
   "source": [
    "sales_performance_table"
   ]
  },
  {
   "cell_type": "code",
   "execution_count": null,
   "metadata": {
    "collapsed": true
   },
   "outputs": [],
   "source": []
  },
  {
   "cell_type": "markdown",
   "metadata": {},
   "source": [
    "# Customer sales data table (by Country)\n",
    "* If a country has only one customer, categorize them into \"Other countries\" \n",
    "* Note: use a trick to put \"Other countries\" category at the very bottom"
   ]
  },
  {
   "cell_type": "code",
   "execution_count": 27,
   "metadata": {},
   "outputs": [],
   "source": [
    "# case_country: case country to \"Other countries\" if only one customer\n",
    "# when country = \"Other countries\" THEN 1ELSE 0\n",
    "country_sales = \"\"\"\n",
    "WITH case_country AS\n",
    "    (\n",
    "    SELECT i.invoice_id, c.customer_id, i.total,\n",
    "            CASE\n",
    "                WHEN (\n",
    "                     SELECT count(*)\n",
    "                     FROM customer\n",
    "                     where country = c.country\n",
    "                     )=1 THEN \"Other countries\"\n",
    "                ELSE c.country\n",
    "            END AS country\n",
    "    FROM invoice i \n",
    "    INNER JOIN customer c on i.customer_id = c.customer_id\n",
    "    )\n",
    "    \n",
    "SELECT c.country,\n",
    "       COUNT(DISTINCT c.customer_id) Total_customer, \n",
    "       COUNT(c.invoice_id) Total_order, \n",
    "       SUM(c.total) Total_sales,\n",
    "       SUM(c.total)/COUNT(c.invoice_id) Avg_order_sales\n",
    "FROM (\n",
    "      SELECT c.*, \n",
    "             CASE\n",
    "                 WHEN country = \"Other countries\" THEN 1\n",
    "                 ELSE 0\n",
    "             END AS sort\n",
    "      FROM case_country c) c\n",
    "GROUP BY c.country\n",
    "ORDER BY c.sort, Total_sales DESC\n",
    "\"\"\""
   ]
  },
  {
   "cell_type": "code",
   "execution_count": 67,
   "metadata": {},
   "outputs": [
    {
     "data": {
      "text/html": [
       "<div>\n",
       "<style scoped>\n",
       "    .dataframe tbody tr th:only-of-type {\n",
       "        vertical-align: middle;\n",
       "    }\n",
       "\n",
       "    .dataframe tbody tr th {\n",
       "        vertical-align: top;\n",
       "    }\n",
       "\n",
       "    .dataframe thead th {\n",
       "        text-align: right;\n",
       "    }\n",
       "</style>\n",
       "<table border=\"1\" class=\"dataframe\">\n",
       "  <thead>\n",
       "    <tr style=\"text-align: right;\">\n",
       "      <th></th>\n",
       "      <th>country</th>\n",
       "      <th>Total_customer</th>\n",
       "      <th>Total_order</th>\n",
       "      <th>Total_sales</th>\n",
       "      <th>Avg_order_sales</th>\n",
       "    </tr>\n",
       "  </thead>\n",
       "  <tbody>\n",
       "    <tr>\n",
       "      <th>0</th>\n",
       "      <td>USA</td>\n",
       "      <td>13</td>\n",
       "      <td>131</td>\n",
       "      <td>1040.49</td>\n",
       "      <td>7.942672</td>\n",
       "    </tr>\n",
       "    <tr>\n",
       "      <th>1</th>\n",
       "      <td>Canada</td>\n",
       "      <td>8</td>\n",
       "      <td>76</td>\n",
       "      <td>535.59</td>\n",
       "      <td>7.047237</td>\n",
       "    </tr>\n",
       "    <tr>\n",
       "      <th>2</th>\n",
       "      <td>Brazil</td>\n",
       "      <td>5</td>\n",
       "      <td>61</td>\n",
       "      <td>427.68</td>\n",
       "      <td>7.011148</td>\n",
       "    </tr>\n",
       "    <tr>\n",
       "      <th>3</th>\n",
       "      <td>France</td>\n",
       "      <td>5</td>\n",
       "      <td>50</td>\n",
       "      <td>389.07</td>\n",
       "      <td>7.781400</td>\n",
       "    </tr>\n",
       "    <tr>\n",
       "      <th>4</th>\n",
       "      <td>Germany</td>\n",
       "      <td>4</td>\n",
       "      <td>41</td>\n",
       "      <td>334.62</td>\n",
       "      <td>8.161463</td>\n",
       "    </tr>\n",
       "    <tr>\n",
       "      <th>5</th>\n",
       "      <td>Czech Republic</td>\n",
       "      <td>2</td>\n",
       "      <td>30</td>\n",
       "      <td>273.24</td>\n",
       "      <td>9.108000</td>\n",
       "    </tr>\n",
       "    <tr>\n",
       "      <th>6</th>\n",
       "      <td>United Kingdom</td>\n",
       "      <td>3</td>\n",
       "      <td>28</td>\n",
       "      <td>245.52</td>\n",
       "      <td>8.768571</td>\n",
       "    </tr>\n",
       "    <tr>\n",
       "      <th>7</th>\n",
       "      <td>Portugal</td>\n",
       "      <td>2</td>\n",
       "      <td>29</td>\n",
       "      <td>185.13</td>\n",
       "      <td>6.383793</td>\n",
       "    </tr>\n",
       "    <tr>\n",
       "      <th>8</th>\n",
       "      <td>India</td>\n",
       "      <td>2</td>\n",
       "      <td>21</td>\n",
       "      <td>183.15</td>\n",
       "      <td>8.721429</td>\n",
       "    </tr>\n",
       "    <tr>\n",
       "      <th>9</th>\n",
       "      <td>Other countries</td>\n",
       "      <td>15</td>\n",
       "      <td>147</td>\n",
       "      <td>1094.94</td>\n",
       "      <td>7.448571</td>\n",
       "    </tr>\n",
       "  </tbody>\n",
       "</table>\n",
       "</div>"
      ],
      "text/plain": [
       "           country  Total_customer  Total_order  Total_sales  Avg_order_sales\n",
       "0              USA              13          131      1040.49         7.942672\n",
       "1           Canada               8           76       535.59         7.047237\n",
       "2           Brazil               5           61       427.68         7.011148\n",
       "3           France               5           50       389.07         7.781400\n",
       "4          Germany               4           41       334.62         8.161463\n",
       "5   Czech Republic               2           30       273.24         9.108000\n",
       "6   United Kingdom               3           28       245.52         8.768571\n",
       "7         Portugal               2           29       185.13         6.383793\n",
       "8            India               2           21       183.15         8.721429\n",
       "9  Other countries              15          147      1094.94         7.448571"
      ]
     },
     "execution_count": 67,
     "metadata": {},
     "output_type": "execute_result"
    }
   ],
   "source": [
    "country_sales_table = run_query(country_sales)\n",
    "country_sales_table"
   ]
  },
  {
   "cell_type": "code",
   "execution_count": 97,
   "metadata": {},
   "outputs": [
    {
     "data": {
      "text/plain": [
       "Text(0.5,1,'Average Sales per Order by Country')"
      ]
     },
     "execution_count": 97,
     "metadata": {},
     "output_type": "execute_result"
    },
    {
     "data": {
      "image/png": "[encoded data removed]",
      "text/plain": [
       "<Figure size 1152x504 with 2 Axes>"
      ]
     },
     "metadata": {},
     "output_type": "display_data"
    }
   ],
   "source": [
    "sns.set(font_scale=1.2)\n",
    "fig, axs = plt.subplots(ncols=2,figsize=(16, 7))\n",
    "fig.subplots_adjust(hspace=.5, wspace=.3)\n",
    "\n",
    "# pie chart\n",
    "country_sales_table_p = run_query(country_sales)\n",
    "country_sales_table_p.set_index(\"country\", drop=True, inplace=True)\n",
    "country_sales_table_p.plot.pie(\n",
    "    y='Total_customer',\n",
    "    ax=axs[0],\n",
    "    counterclock=False,\n",
    "    title='Number of Customers by Country',\n",
    "    fontsize=10,\n",
    "    startangle=-90,\n",
    "    legend =None,\n",
    "    shadow=True\n",
    ")\n",
    "# bar chart\n",
    "sns.barplot(x='Avg_order_sales',y='country', data = country_sales_table.sort_values(by='Avg_order_sales', ascending = False),ax=axs[1])\n",
    "plt.title('Average Sales per Order by Country', fontsize=17)"
   ]
  },
  {
   "cell_type": "markdown",
   "metadata": {
    "collapsed": true
   },
   "source": [
    "* From the pie chart, USA and Canada have largest number of customers compared with other countries, followed by Brazil, France, and Germany\n",
    "* From the bar chart, customers from Czech Republic, UK, and India have relatively larger spending per order\n",
    "* This finding can help sales team on making better decision of resource reallocation strategy, i.e. spending time and cost on valueable customers\n"
   ]
  },
  {
   "cell_type": "markdown",
   "metadata": {},
   "source": [
    "# Which artist is used in the most playlists?"
   ]
  },
  {
   "cell_type": "code",
   "execution_count": 149,
   "metadata": {},
   "outputs": [],
   "source": [
    "artist_playlist = \"\"\"\n",
    "WITH artist_playlist AS\n",
    "    (\n",
    "    SELECT a.name artist_name,\n",
    "           p.name playlist_name  \n",
    "    FROM artist a\n",
    "    INNER JOIN album al on a.artist_id = al.artist_id\n",
    "    INNER JOIN track t on al.album_id = t.album_id\n",
    "    INNER JOIN playlist_track pt on t.track_id = pt.track_id\n",
    "    INNER JOIN playlist p on pt.playlist_id = p.playlist_id\n",
    "    GROUP BY artist_name, playlist_name\n",
    "    )\n",
    "SELECT artist_name, \n",
    "       COUNT(playlist_name) number_playlist\n",
    "FROM artist_playlist\n",
    "GROUP BY artist_name\n",
    "ORDER BY number_playlist DESC\n",
    "\"\"\""
   ]
  },
  {
   "cell_type": "code",
   "execution_count": 150,
   "metadata": {},
   "outputs": [],
   "source": [
    "a = run_query(artist_playlist)"
   ]
  },
  {
   "cell_type": "code",
   "execution_count": 153,
   "metadata": {},
   "outputs": [
    {
     "data": {
      "text/html": [
       "<div>\n",
       "<style scoped>\n",
       "    .dataframe tbody tr th:only-of-type {\n",
       "        vertical-align: middle;\n",
       "    }\n",
       "\n",
       "    .dataframe tbody tr th {\n",
       "        vertical-align: top;\n",
       "    }\n",
       "\n",
       "    .dataframe thead th {\n",
       "        text-align: right;\n",
       "    }\n",
       "</style>\n",
       "<table border=\"1\" class=\"dataframe\">\n",
       "  <thead>\n",
       "    <tr style=\"text-align: right;\">\n",
       "      <th></th>\n",
       "      <th>artist_name</th>\n",
       "      <th>number_playlist</th>\n",
       "    </tr>\n",
       "  </thead>\n",
       "  <tbody>\n",
       "    <tr>\n",
       "      <th>0</th>\n",
       "      <td>Eugene Ormandy</td>\n",
       "      <td>6</td>\n",
       "    </tr>\n",
       "    <tr>\n",
       "      <th>1</th>\n",
       "      <td>Academy of St. Martin in the Fields &amp; Sir Nevi...</td>\n",
       "      <td>5</td>\n",
       "    </tr>\n",
       "    <tr>\n",
       "      <th>2</th>\n",
       "      <td>Berliner Philharmoniker &amp; Herbert Von Karajan</td>\n",
       "      <td>5</td>\n",
       "    </tr>\n",
       "    <tr>\n",
       "      <th>3</th>\n",
       "      <td>English Concert &amp; Trevor Pinnock</td>\n",
       "      <td>5</td>\n",
       "    </tr>\n",
       "    <tr>\n",
       "      <th>4</th>\n",
       "      <td>The King's Singers</td>\n",
       "      <td>5</td>\n",
       "    </tr>\n",
       "  </tbody>\n",
       "</table>\n",
       "</div>"
      ],
      "text/plain": [
       "                                         artist_name  number_playlist\n",
       "0                                     Eugene Ormandy                6\n",
       "1  Academy of St. Martin in the Fields & Sir Nevi...                5\n",
       "2      Berliner Philharmoniker & Herbert Von Karajan                5\n",
       "3                   English Concert & Trevor Pinnock                5\n",
       "4                                 The King's Singers                5"
      ]
     },
     "execution_count": 153,
     "metadata": {},
     "output_type": "execute_result"
    }
   ],
   "source": [
    "a.head()"
   ]
  },
  {
   "cell_type": "markdown",
   "metadata": {},
   "source": [
    "* __Artist Eugene Ormandy is included in 6 different playlists__"
   ]
  },
  {
   "cell_type": "markdown",
   "metadata": {},
   "source": [
    "# How many tracks have been purchased vs not purchased?"
   ]
  },
  {
   "cell_type": "code",
   "execution_count": 220,
   "metadata": {},
   "outputs": [],
   "source": [
    "track_pur = \"\"\"\n",
    "WITH track_sold AS\n",
    "    (\n",
    "    SELECT t.name track_name,\n",
    "           COUNT(DISTINCT invoice_id) number_sold\n",
    "    FROM track t\n",
    "    LEFT JOIN invoice_line il on t.track_id = il.track_id\n",
    "    GROUP BY track_name  \n",
    "    ORDER BY number_sold DESC\n",
    "    )\n",
    "    \n",
    "SELECT purchased,\n",
    "       COUNT(*) number_tracks\n",
    "FROM (\n",
    "      SELECT *, \n",
    "             CASE\n",
    "                 WHEN number_sold != 0 THEN \"yes\"\n",
    "                 ELSE \"no\"\n",
    "             END AS purchased\n",
    "      FROM track_sold\n",
    "     )\n",
    "GROUP BY purchased\n",
    "\"\"\""
   ]
  },
  {
   "cell_type": "code",
   "execution_count": 221,
   "metadata": {},
   "outputs": [],
   "source": [
    "track_pur_table = run_query(track_pur)"
   ]
  },
  {
   "cell_type": "code",
   "execution_count": 223,
   "metadata": {},
   "outputs": [
    {
     "data": {
      "text/html": [
       "<div>\n",
       "<style scoped>\n",
       "    .dataframe tbody tr th:only-of-type {\n",
       "        vertical-align: middle;\n",
       "    }\n",
       "\n",
       "    .dataframe tbody tr th {\n",
       "        vertical-align: top;\n",
       "    }\n",
       "\n",
       "    .dataframe thead th {\n",
       "        text-align: right;\n",
       "    }\n",
       "</style>\n",
       "<table border=\"1\" class=\"dataframe\">\n",
       "  <thead>\n",
       "    <tr style=\"text-align: right;\">\n",
       "      <th></th>\n",
       "      <th>purchased</th>\n",
       "      <th>number_tracks</th>\n",
       "    </tr>\n",
       "  </thead>\n",
       "  <tbody>\n",
       "    <tr>\n",
       "      <th>0</th>\n",
       "      <td>no</td>\n",
       "      <td>1523</td>\n",
       "    </tr>\n",
       "    <tr>\n",
       "      <th>1</th>\n",
       "      <td>yes</td>\n",
       "      <td>1734</td>\n",
       "    </tr>\n",
       "  </tbody>\n",
       "</table>\n",
       "</div>"
      ],
      "text/plain": [
       "  purchased  number_tracks\n",
       "0        no           1523\n",
       "1       yes           1734"
      ]
     },
     "execution_count": 223,
     "metadata": {},
     "output_type": "execute_result"
    }
   ],
   "source": [
    "track_pur_table"
   ]
  },
  {
   "cell_type": "markdown",
   "metadata": {},
   "source": [
    "* There are 1734 tracks have been purchased and 1523 tracks have not been purchased"
   ]
  },
  {
   "cell_type": "markdown",
   "metadata": {},
   "source": [
    "# Do protected vs non-protected media types have an effect on popularity?"
   ]
  },
  {
   "cell_type": "code",
   "execution_count": 240,
   "metadata": {},
   "outputs": [],
   "source": [
    "track_media = \"\"\"\n",
    "SELECT m.name media_type,\n",
    "        COUNT(DISTINCT t.track_id) number_tracks,\n",
    "       COUNT(il.invoice_id) number_purchased,\n",
    "       CAST(COUNT(il.invoice_id) AS Float)/COUNT(DISTINCT t.track_id) Avg_purchase_times\n",
    "FROM invoice_line il\n",
    "INNER JOIN track t on il.track_id = t.track_id\n",
    "INNER JOIN media_type m on t.media_type_id = m.media_type_id\n",
    "GROUP BY media_type\n",
    "\"\"\""
   ]
  },
  {
   "cell_type": "code",
   "execution_count": 241,
   "metadata": {},
   "outputs": [
    {
     "data": {
      "text/html": [
       "<div>\n",
       "<style scoped>\n",
       "    .dataframe tbody tr th:only-of-type {\n",
       "        vertical-align: middle;\n",
       "    }\n",
       "\n",
       "    .dataframe tbody tr th {\n",
       "        vertical-align: top;\n",
       "    }\n",
       "\n",
       "    .dataframe thead th {\n",
       "        text-align: right;\n",
       "    }\n",
       "</style>\n",
       "<table border=\"1\" class=\"dataframe\">\n",
       "  <thead>\n",
       "    <tr style=\"text-align: right;\">\n",
       "      <th></th>\n",
       "      <th>media_type</th>\n",
       "      <th>number_tracks</th>\n",
       "      <th>number_purchased</th>\n",
       "      <th>Avg_purchase_times</th>\n",
       "    </tr>\n",
       "  </thead>\n",
       "  <tbody>\n",
       "    <tr>\n",
       "      <th>0</th>\n",
       "      <td>AAC audio file</td>\n",
       "      <td>8</td>\n",
       "      <td>21</td>\n",
       "      <td>2.625000</td>\n",
       "    </tr>\n",
       "    <tr>\n",
       "      <th>1</th>\n",
       "      <td>MPEG audio file</td>\n",
       "      <td>1641</td>\n",
       "      <td>4259</td>\n",
       "      <td>2.595369</td>\n",
       "    </tr>\n",
       "    <tr>\n",
       "      <th>2</th>\n",
       "      <td>Protected AAC audio file</td>\n",
       "      <td>151</td>\n",
       "      <td>439</td>\n",
       "      <td>2.907285</td>\n",
       "    </tr>\n",
       "    <tr>\n",
       "      <th>3</th>\n",
       "      <td>Protected MPEG-4 video file</td>\n",
       "      <td>3</td>\n",
       "      <td>3</td>\n",
       "      <td>1.000000</td>\n",
       "    </tr>\n",
       "    <tr>\n",
       "      <th>4</th>\n",
       "      <td>Purchased AAC audio file</td>\n",
       "      <td>3</td>\n",
       "      <td>35</td>\n",
       "      <td>11.666667</td>\n",
       "    </tr>\n",
       "  </tbody>\n",
       "</table>\n",
       "</div>"
      ],
      "text/plain": [
       "                    media_type  number_tracks  number_purchased  \\\n",
       "0               AAC audio file              8                21   \n",
       "1              MPEG audio file           1641              4259   \n",
       "2     Protected AAC audio file            151               439   \n",
       "3  Protected MPEG-4 video file              3                 3   \n",
       "4     Purchased AAC audio file              3                35   \n",
       "\n",
       "   Avg_purchase_times  \n",
       "0            2.625000  \n",
       "1            2.595369  \n",
       "2            2.907285  \n",
       "3            1.000000  \n",
       "4           11.666667  "
      ]
     },
     "execution_count": 241,
     "metadata": {},
     "output_type": "execute_result"
    }
   ],
   "source": [
    "run_query(track_media)"
   ]
  },
  {
   "cell_type": "markdown",
   "metadata": {},
   "source": [
    "* (For tracks that have been purchased and have media type)\n",
    "* There are 154 tracks under protected media types and 1652 tracks under non-protected types\n",
    "* __Protected AAC audio file__ has __slightly higher__ average purchased times among all media types"
   ]
  },
  {
   "cell_type": "code",
   "execution_count": null,
   "metadata": {},
   "outputs": [],
   "source": []
  }
 ],
 "metadata": {
  "kernelspec": {
   "display_name": "Python 3",
   "language": "python",
   "name": "python3"
  },
  "language_info": {
   "codemirror_mode": {
    "name": "ipython",
    "version": 3
   },
   "file_extension": ".py",
   "mimetype": "text/x-python",
   "name": "python",
   "nbconvert_exporter": "python",
   "pygments_lexer": "ipython3",
   "version": "3.6.5"
  },
  "toc": {
   "base_numbering": 1,
   "nav_menu": {},
   "number_sections": true,
   "sideBar": true,
   "skip_h1_title": false,
   "title_cell": "Table of Contents",
   "title_sidebar": "Contents",
   "toc_cell": false,
   "toc_position": {},
   "toc_section_display": true,
   "toc_window_display": false
  }
 },
 "nbformat": 4,
 "nbformat_minor": 2
}
